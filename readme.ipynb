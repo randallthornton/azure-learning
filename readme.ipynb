{
 "cells": [
  {
   "cell_type": "markdown",
   "metadata": {},
   "source": [
    "# Azure Learning!"
   ]
  },
  {
   "cell_type": "code",
   "execution_count": 16,
   "metadata": {},
   "outputs": [
    {
     "name": "stdout",
     "output_type": "stream",
     "text": [
      "WARNING: A web browser has been opened at https://login.microsoftonline.com/organizations/oauth2/v2.0/authorize. Please continue the login in the web browser. If no web browser is available or if the web browser fails to open, use device code flow with `az login --use-device-code`.\n",
      "[\n",
      "  {\n",
      "    \"cloudName\": \"AzureCloud\",\n",
      "    \"homeTenantId\": \"415d05c4-204b-4df3-b7db-fb5faa4abb73\",\n",
      "    \"id\": \"586f41cd-533d-41bd-9be4-88f5657a9ed4\",\n",
      "    \"isDefault\": false,\n",
      "    \"managedByTenants\": [],\n",
      "    \"name\": \"Azure Cloud POC\",\n",
      "    \"state\": \"Enabled\",\n",
      "    \"tenantId\": \"415d05c4-204b-4df3-b7db-fb5faa4abb73\",\n",
      "    \"user\": {\n",
      "      \"name\": \"Randall.Thornton@cc-racks.com\",\n",
      "      \"type\": \"user\"\n",
      "    }\n",
      "  },\n",
      "  {\n",
      "    \"cloudName\": \"AzureCloud\",\n",
      "    \"homeTenantId\": \"415d05c4-204b-4df3-b7db-fb5faa4abb73\",\n",
      "    \"id\": \"139ab8b0-8b6c-4574-ba4e-cb7f38419e03\",\n",
      "    \"isDefault\": true,\n",
      "    \"managedByTenants\": [],\n",
      "    \"name\": \"Visual Studio Professional Subscription\",\n",
      "    \"state\": \"Enabled\",\n",
      "    \"tenantId\": \"415d05c4-204b-4df3-b7db-fb5faa4abb73\",\n",
      "    \"user\": {\n",
      "      \"name\": \"Randall.Thornton@cc-racks.com\",\n",
      "      \"type\": \"user\"\n",
      "    }\n",
      "  }\n",
      "]\n"
     ]
    }
   ],
   "source": [
    "az login"
   ]
  },
  {
   "cell_type": "code",
   "execution_count": 17,
   "metadata": {},
   "outputs": [
    {
     "name": "stdout",
     "output_type": "stream",
     "text": []
    }
   ],
   "source": [
    "$resourceGroupName = \"az-learn-group\""
   ]
  },
  {
   "cell_type": "code",
   "execution_count": 18,
   "metadata": {},
   "outputs": [
    {
     "name": "stdout",
     "output_type": "stream",
     "text": []
    }
   ],
   "source": [
    "az account set --subscription '139ab8b0-8b6c-4574-ba4e-cb7f38419e03'"
   ]
  },
  {
   "cell_type": "code",
   "execution_count": 23,
   "metadata": {},
   "outputs": [
    {
     "name": "stdout",
     "output_type": "stream",
     "text": [
      "WARNING: A new Bicep release is available: v0.27.1. Upgrade now by running \"az bicep upgrade\".\n",
      "WARNING: C:\\Users\\randall.thornton\\source\\repos\\azure-learning\\storage-account\\main.bicep(3,25) : Warning BCP081: Resource type \"Microsoft.Storage/storageAccounts@2023-04-01\" does not have types available. Bicep is unable to validate resource properties prior to deployment, but this will not block the resource from being deployed.\n",
      "C:\\Users\\randall.thornton\\source\\repos\\azure-learning\\storage-account\\main.bicep(5,13) : Warning no-hardcoded-location: A resource location should not use a hard-coded string or variable value. Please use a parameter value, an expression, or the string 'global'. Found: 'eastus' [https://aka.ms/bicep/linter/no-hardcoded-location]\n",
      "\n",
      "{\n",
      "  \"id\": \"/subscriptions/139ab8b0-8b6c-4574-ba4e-cb7f38419e03/resourceGroups/az-learn-group/providers/Microsoft.Resources/deployments/main\",\n",
      "  \"location\": null,\n",
      "  \"name\": \"main\",\n",
      "  \"properties\": {\n",
      "    \"correlationId\": \"a433e36e-8c60-4fb7-98f9-0877d7d67ba0\",\n",
      "    \"debugSetting\": null,\n",
      "    \"dependencies\": [],\n",
      "    \"duration\": \"PT20.4942687S\",\n",
      "    \"error\": null,\n",
      "    \"mode\": \"Incremental\",\n",
      "    \"onErrorDeployment\": null,\n",
      "    \"outputResources\": [\n",
      "      {\n",
      "        \"id\": \"/subscriptions/139ab8b0-8b6c-4574-ba4e-cb7f38419e03/resourceGroups/az-learn-group/providers/Microsoft.Storage/storageAccounts/azlearnstorage868\",\n",
      "        \"resourceGroup\": \"az-learn-group\"\n",
      "      }\n",
      "    ],\n",
      "    \"outputs\": null,\n",
      "    \"parameters\": null,\n",
      "    \"parametersLink\": null,\n",
      "    \"providers\": [\n",
      "      {\n",
      "        \"id\": null,\n",
      "        \"namespace\": \"Microsoft.Storage\",\n",
      "        \"providerAuthorizationConsentState\": null,\n",
      "        \"registrationPolicy\": null,\n",
      "        \"registrationState\": null,\n",
      "        \"resourceTypes\": [\n",
      "          {\n",
      "            \"aliases\": null,\n",
      "            \"apiProfiles\": null,\n",
      "            \"apiVersions\": null,\n",
      "            \"capabilities\": null,\n",
      "            \"defaultApiVersion\": null,\n",
      "            \"locationMappings\": null,\n",
      "            \"locations\": [\n",
      "              \"eastus\"\n",
      "            ],\n",
      "            \"properties\": null,\n",
      "            \"resourceType\": \"storageAccounts\",\n",
      "            \"zoneMappings\": null\n",
      "          }\n",
      "        ]\n",
      "      }\n",
      "    ],\n",
      "    \"provisioningState\": \"Succeeded\",\n",
      "    \"templateHash\": \"6542346440565936931\",\n",
      "    \"templateLink\": null,\n",
      "    \"timestamp\": \"2024-05-11T14:33:02.582243+00:00\",\n",
      "    \"validatedResources\": null\n",
      "  },\n",
      "  \"resourceGroup\": \"az-learn-group\",\n",
      "  \"tags\": null,\n",
      "  \"type\": \"Microsoft.Resources/deployments\"\n",
      "}\n"
     ]
    }
   ],
   "source": [
    "az deployment group create --resource-group \"$resourceGroupName\" --template-file .\\storage-account\\main.bicep"
   ]
  },
  {
   "cell_type": "code",
   "execution_count": 26,
   "metadata": {},
   "outputs": [
    {
     "name": "stdout",
     "output_type": "stream",
     "text": [
      ". {\n",
      ">> az storage blob service-properties update --account-name azlearnstorage868 --static-website --index-document .\\storage-account\\index.html --404-document .\\storage-account\\error.html\n",
      ">> }\n",
      ">> \n",
      "WARNING: \n",
      "There are no credentials provided in your command and environment, we will query for account key for your storage account.\n",
      "It is recommended to provide --connection-string, --account-key or --sas-token in your command as credentials.\n",
      "\n",
      "You also can add `--auth-mode login` in your command to use Azure Active Directory (Azure AD) for authorization if your login account is assigned required RBAC roles.\n",
      "For more information about RBAC roles in storage, visit https://docs.microsoft.com/azure/storage/common/storage-auth-aad-rbac-cli.\n",
      "\n",
      "In addition, setting the corresponding environment variables can avoid inputting credentials in your command. Please use --help to get more information about environment variable usage.\n",
      "{\n",
      "  \"cors\": [],\n",
      "  \"deleteRetentionPolicy\": {\n",
      "    \"allowPermanentDelete\": null,\n",
      "    \"days\": null,\n",
      "    \"enabled\": false\n",
      "  },\n",
      "  \"hourMetrics\": {\n",
      "    \"enabled\": true,\n",
      "    \"includeApis\": true,\n",
      "    \"retentionPolicy\": {\n",
      "      \"allowPermanentDelete\": null,\n",
      "      \"days\": 7,\n",
      "      \"enabled\": true\n",
      "    },\n",
      "    \"version\": \"1.0\"\n",
      "  },\n",
      "  \"logging\": {\n",
      "    \"delete\": false,\n",
      "    \"read\": false,\n",
      "    \"retentionPolicy\": {\n",
      "      \"allowPermanentDelete\": null,\n",
      "      \"days\": null,\n",
      "      \"enabled\": false\n",
      "    },\n",
      "    \"version\": \"1.0\",\n",
      "    \"write\": false\n",
      "  },\n",
      "  \"minuteMetrics\": {\n",
      "    \"enabled\": false,\n",
      "    \"includeApis\": null,\n",
      "    \"retentionPolicy\": {\n",
      "      \"allowPermanentDelete\": null,\n",
      "      \"days\": null,\n",
      "      \"enabled\": false\n",
      "    },\n",
      "    \"version\": \"1.0\"\n",
      "  },\n",
      "  \"staticWebsite\": {\n",
      "    \"defaultIndexDocumentPath\": null,\n",
      "    \"enabled\": true,\n",
      "    \"errorDocument_404Path\": \".\\\\storage-account\\\\error.html\",\n",
      "    \"indexDocument\": \".\\\\storage-account\\\\index.html\"\n",
      "  },\n",
      "  \"target_version\": null\n",
      "}\n"
     ]
    }
   ],
   "source": [
    "az storage blob service-properties update --account-name azlearnstorage868 --static-website --index-document index.html --404-document error.html"
   ]
  },
  {
   "cell_type": "code",
   "execution_count": 28,
   "metadata": {},
   "outputs": [
    {
     "name": "stdout",
     "output_type": "stream",
     "text": [
      "WARNING: \n",
      "There are no credentials provided in your command and environment, we will query for account key for your storage account.\n",
      "It is recommended to provide --connection-string, --account-key or --sas-token in your command as credentials.\n",
      "\n",
      "You also can add `--auth-mode login` in your command to use Azure Active Directory (Azure AD) for authorization if your login account is assigned required RBAC roles.\n",
      "For more information about RBAC roles in storage, visit https://docs.microsoft.com/azure/storage/common/storage-auth-aad-rbac-cli.\n",
      "\n",
      "In addition, setting the corresponding environment variables can avoid inputting credentials in your command. Please use --help to get more information about environment variable usage.\n",
      "1/3: \"error.html\"[####################################################]  100.0000%2/3: \"index.html\"[####################################################]  100.0000%3/3: \"main.bicep\"[####################################################]  100.0000%Finished[#############################################################]  100.0000%\n",
      "[\n",
      "  {\n",
      "    \"Blob\": \"https://azlearnstorage868.blob.core.windows.net/%24web/error.html\",\n",
      "    \"Last Modified\": \"2024-05-11T15:30:50+00:00\",\n",
      "    \"Type\": \"text/html\",\n",
      "    \"eTag\": \"\\\"0x8DC71CF56A5D924\\\"\"\n",
      "  },\n",
      "  {\n",
      "    \"Blob\": \"https://azlearnstorage868.blob.core.windows.net/%24web/index.html\",\n",
      "    \"Last Modified\": \"2024-05-11T15:30:50+00:00\",\n",
      "    \"Type\": \"text/html\",\n",
      "    \"eTag\": \"\\\"0x8DC71CF56B1D9A8\\\"\"\n",
      "  },\n",
      "  {\n",
      "    \"Blob\": \"https://azlearnstorage868.blob.core.windows.net/%24web/main.bicep\",\n",
      "    \"Last Modified\": \"2024-05-11T15:30:50+00:00\",\n",
      "    \"Type\": null,\n",
      "    \"eTag\": \"\\\"0x8DC71CF56BA5B84\\\"\"\n",
      "  }\n",
      "]\n"
     ]
    }
   ],
   "source": [
    "az storage blob upload-batch -s .\\storage-account -d '$web' --account-name 'azlearnstorage868'"
   ]
  }
 ],
 "metadata": {
  "kernelspec": {
   "display_name": "PowerShell",
   "language": "powershell",
   "name": "powershell"
  },
  "language_info": {
   "codemirror_mode": "shell",
   "file_extension": ".ps1",
   "mimetype": "text/x-sh",
   "name": "powershell"
  }
 },
 "nbformat": 4,
 "nbformat_minor": 2
}
