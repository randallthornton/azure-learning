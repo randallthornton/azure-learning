{
 "cells": [
  {
   "cell_type": "markdown",
   "metadata": {},
   "source": [
    "# Azure Learning - App Service"
   ]
  },
  {
   "cell_type": "code",
   "execution_count": 1,
   "metadata": {
    "dotnet_interactive": {
     "language": "pwsh"
    },
    "polyglot_notebook": {
     "kernelName": "pwsh"
    },
    "vscode": {
     "languageId": "polyglot-notebook"
    }
   },
   "outputs": [
    {
     "name": "stdout",
     "output_type": "stream",
     "text": [
      "\u001b[31;1mWARNING: A web browser has been opened at https://login.microsoftonline.com/organizations/oauth2/v2.0/authorize. Please continue the login in the web browser. If no web browser is available or if the web browser fails to open, use device code flow with `az login --use-device-code`.\u001b[0m\n",
      "[\n",
      "  {\n",
      "    \"cloudName\": \"AzureCloud\",\n",
      "    \"homeTenantId\": \"415d05c4-204b-4df3-b7db-fb5faa4abb73\",\n",
      "    \"id\": \"586f41cd-533d-41bd-9be4-88f5657a9ed4\",\n",
      "    \"isDefault\": false,\n",
      "    \"managedByTenants\": [],\n",
      "    \"name\": \"Azure Cloud POC\",\n",
      "    \"state\": \"Enabled\",\n",
      "    \"tenantId\": \"415d05c4-204b-4df3-b7db-fb5faa4abb73\",\n",
      "    \"user\": {\n",
      "      \"name\": \"Randall.Thornton@cc-racks.com\",\n",
      "      \"type\": \"user\"\n",
      "    }\n",
      "  },\n",
      "  {\n",
      "    \"cloudName\": \"AzureCloud\",\n",
      "    \"homeTenantId\": \"415d05c4-204b-4df3-b7db-fb5faa4abb73\",\n",
      "    \"id\": \"139ab8b0-8b6c-4574-ba4e-cb7f38419e03\",\n",
      "    \"isDefault\": true,\n",
      "    \"managedByTenants\": [],\n",
      "    \"name\": \"Visual Studio Professional Subscription\",\n",
      "    \"state\": \"Enabled\",\n",
      "    \"tenantId\": \"415d05c4-204b-4df3-b7db-fb5faa4abb73\",\n",
      "    \"user\": {\n",
      "      \"name\": \"Randall.Thornton@cc-racks.com\",\n",
      "      \"type\": \"user\"\n",
      "    }\n",
      "  }\n",
      "]\n"
     ]
    }
   ],
   "source": [
    "az login"
   ]
  },
  {
   "cell_type": "code",
   "execution_count": 2,
   "metadata": {
    "dotnet_interactive": {
     "language": "pwsh"
    },
    "polyglot_notebook": {
     "kernelName": "pwsh"
    },
    "vscode": {
     "languageId": "polyglot-notebook"
    }
   },
   "outputs": [],
   "source": [
    "# Set the subscription\n",
    "\n",
    "az account set --subscription '139ab8b0-8b6c-4574-ba4e-cb7f38419e03'"
   ]
  },
  {
   "cell_type": "code",
   "execution_count": 5,
   "metadata": {
    "dotnet_interactive": {
     "language": "pwsh"
    },
    "polyglot_notebook": {
     "kernelName": "pwsh"
    },
    "vscode": {
     "languageId": "polyglot-notebook"
    }
   },
   "outputs": [
    {
     "name": "stdout",
     "output_type": "stream",
     "text": [
      "{\n",
      "  \"id\": \"/subscriptions/139ab8b0-8b6c-4574-ba4e-cb7f38419e03/resourceGroups/az-learn-group\",\n",
      "  \"location\": \"eastus\",\n",
      "  \"managedBy\": null,\n",
      "  \"name\": \"az-learn-group\",\n",
      "  \"properties\": {\n",
      "    \"provisioningState\": \"Succeeded\"\n",
      "  },\n",
      "  \"tags\": null,\n",
      "  \"type\": \"Microsoft.Resources/resourceGroups\"\n",
      "}\n"
     ]
    }
   ],
   "source": [
    "# Create the resource group\n",
    "$resourceGroupName = \"az-learn-group\"\n",
    "$appServicePlanName = \"appServicePlan\"\n",
    "$webAppName = \"az-learn-web-app-89\"\n",
    "\n",
    "az group create --name \"$resourceGroupName\" --location eastus"
   ]
  },
  {
   "cell_type": "code",
   "execution_count": 6,
   "metadata": {
    "dotnet_interactive": {
     "language": "pwsh"
    },
    "polyglot_notebook": {
     "kernelName": "pwsh"
    },
    "vscode": {
     "languageId": "polyglot-notebook"
    }
   },
   "outputs": [
    {
     "name": "stdout",
     "output_type": "stream",
     "text": [
      "{\n",
      "  \"id\": \"/subscriptions/139ab8b0-8b6c-4574-ba4e-cb7f38419e03/resourceGroups/az-learn-group/providers/Microsoft.Resources/deployments/main\",\n",
      "  \"location\": null,\n",
      "  \"name\": \"main\",\n",
      "  \"properties\": {\n",
      "    \"correlationId\": \"21b87548-931e-4567-9daf-ee1288fc5abb\",\n",
      "    \"debugSetting\": null,\n",
      "    \"dependencies\": [\n",
      "      {\n",
      "        \"dependsOn\": [\n",
      "          {\n",
      "            \"id\": \"/subscriptions/139ab8b0-8b6c-4574-ba4e-cb7f38419e03/resourceGroups/az-learn-group/providers/Microsoft.Web/serverfarms/appServicePlan\",\n",
      "            \"resourceGroup\": \"az-learn-group\",\n",
      "            \"resourceName\": \"appServicePlan\",\n",
      "            \"resourceType\": \"Microsoft.Web/serverfarms\"\n",
      "          }\n",
      "        ],\n",
      "        \"id\": \"/subscriptions/139ab8b0-8b6c-4574-ba4e-cb7f38419e03/resourceGroups/az-learn-group/providers/Microsoft.Web/sites/az-learn-web-app-89\",\n",
      "        \"resourceGroup\": \"az-learn-group\",\n",
      "        \"resourceName\": \"az-learn-web-app-89\",\n",
      "        \"resourceType\": \"Microsoft.Web/sites\"\n",
      "      },\n",
      "      {\n",
      "        \"dependsOn\": [\n",
      "          {\n",
      "            \"id\": \"/subscriptions/139ab8b0-8b6c-4574-ba4e-cb7f38419e03/resourceGroups/az-learn-group/providers/Microsoft.Web/sites/az-learn-web-app-89\",\n",
      "            \"resourceGroup\": \"az-learn-group\",\n",
      "            \"resourceName\": \"az-learn-web-app-89\",\n",
      "            \"resourceType\": \"Microsoft.Web/sites\"\n",
      "          }\n",
      "        ],\n",
      "        \"id\": \"/subscriptions/139ab8b0-8b6c-4574-ba4e-cb7f38419e03/resourceGroups/az-learn-group/providers/Microsoft.Web/sites/az-learn-web-app-89/sourcecontrols/web\",\n",
      "        \"resourceGroup\": \"az-learn-group\",\n",
      "        \"resourceName\": \"az-learn-web-app-89/web\",\n",
      "        \"resourceType\": \"Microsoft.Web/sites/sourcecontrols\"\n",
      "      }\n",
      "    ],\n",
      "    \"duration\": \"PT1M40.606243S\",\n",
      "    \"error\": null,\n",
      "    \"mode\": \"Incremental\",\n",
      "    \"onErrorDeployment\": null,\n",
      "    \"outputResources\": [\n",
      "      {\n",
      "        \"id\": \"/subscriptions/139ab8b0-8b6c-4574-ba4e-cb7f38419e03/resourceGroups/az-learn-group/providers/Microsoft.Web/serverfarms/appServicePlan\",\n",
      "        \"resourceGroup\": \"az-learn-group\"\n",
      "      },\n",
      "      {\n",
      "        \"id\": \"/subscriptions/139ab8b0-8b6c-4574-ba4e-cb7f38419e03/resourceGroups/az-learn-group/providers/Microsoft.Web/sites/az-learn-web-app-89\",\n",
      "        \"resourceGroup\": \"az-learn-group\"\n",
      "      },\n",
      "      {\n",
      "        \"id\": \"/subscriptions/139ab8b0-8b6c-4574-ba4e-cb7f38419e03/resourceGroups/az-learn-group/providers/Microsoft.Web/sites/az-learn-web-app-89/sourcecontrols/web\",\n",
      "        \"resourceGroup\": \"az-learn-group\"\n",
      "      }\n",
      "    ],\n",
      "    \"outputs\": null,\n",
      "    \"parameters\": {\n",
      "      \"appServicePlanName\": {\n",
      "        \"type\": \"String\",\n",
      "        \"value\": \"appServicePlan\"\n",
      "      },\n",
      "      \"repositoryUrl\": {\n",
      "        \"type\": \"String\",\n",
      "        \"value\": \"https://github.com/randallthornton/azure-learning\"\n",
      "      },\n",
      "      \"webAppName\": {\n",
      "        \"type\": \"String\",\n",
      "        \"value\": \"az-learn-web-app-89\"\n",
      "      }\n",
      "    },\n",
      "    \"parametersLink\": null,\n",
      "    \"providers\": [\n",
      "      {\n",
      "        \"id\": null,\n",
      "        \"namespace\": \"Microsoft.Web\",\n",
      "        \"providerAuthorizationConsentState\": null,\n",
      "        \"registrationPolicy\": null,\n",
      "        \"registrationState\": null,\n",
      "        \"resourceTypes\": [\n",
      "          {\n",
      "            \"aliases\": null,\n",
      "            \"apiProfiles\": null,\n",
      "            \"apiVersions\": null,\n",
      "            \"capabilities\": null,\n",
      "            \"defaultApiVersion\": null,\n",
      "            \"locationMappings\": null,\n",
      "            \"locations\": [\n",
      "              \"eastus\"\n",
      "            ],\n",
      "            \"properties\": null,\n",
      "            \"resourceType\": \"serverfarms\",\n",
      "            \"zoneMappings\": null\n",
      "          },\n",
      "          {\n",
      "            \"aliases\": null,\n",
      "            \"apiProfiles\": null,\n",
      "            \"apiVersions\": null,\n",
      "            \"capabilities\": null,\n",
      "            \"defaultApiVersion\": null,\n",
      "            \"locationMappings\": null,\n",
      "            \"locations\": [\n",
      "              \"eastus\"\n",
      "            ],\n",
      "            \"properties\": null,\n",
      "            \"resourceType\": \"sites\",\n",
      "            \"zoneMappings\": null\n",
      "          },\n",
      "          {\n",
      "            \"aliases\": null,\n",
      "            \"apiProfiles\": null,\n",
      "            \"apiVersions\": null,\n",
      "            \"capabilities\": null,\n",
      "            \"defaultApiVersion\": null,\n",
      "            \"locationMappings\": null,\n",
      "            \"locations\": [\n",
      "              null\n",
      "            ],\n",
      "            \"properties\": null,\n",
      "            \"resourceType\": \"sites/sourcecontrols\",\n",
      "            \"zoneMappings\": null\n",
      "          }\n",
      "        ]\n",
      "      }\n",
      "    ],\n",
      "    \"provisioningState\": \"Succeeded\",\n",
      "    \"templateHash\": \"13998556849724582886\",\n",
      "    \"templateLink\": null,\n",
      "    \"timestamp\": \"2024-05-12T16:51:12.772303+00:00\",\n",
      "    \"validatedResources\": null\n",
      "  },\n",
      "  \"resourceGroup\": \"az-learn-group\",\n",
      "  \"tags\": null,\n",
      "  \"type\": \"Microsoft.Resources/deployments\"\n",
      "}\n"
     ]
    }
   ],
   "source": [
    "# Create the infrastructure\n",
    "\n",
    "az deployment group create --resource-group \"$resourceGroupName\" --template-file .\\main.bicep --parameters appServicePlanName=$appServicePlanName webAppName=$webAppName"
   ]
  },
  {
   "cell_type": "code",
   "execution_count": 18,
   "metadata": {
    "dotnet_interactive": {
     "language": "pwsh"
    },
    "polyglot_notebook": {
     "kernelName": "pwsh"
    },
    "vscode": {
     "languageId": "polyglot-notebook"
    }
   },
   "outputs": [
    {
     "name": "stdout",
     "output_type": "stream",
     "text": [
      "MSBuild version 17.9.4+90725d08d for .NET\n",
      "MSBUILD : error MSB1001: Unknown switch.\n",
      "    Full command line: 'C:\\Program Files\\dotnet\\sdk\\8.0.200\\MSBuild.dll -maxcpucount -verbosity:m -restore -target:Publish --property:_IsPublishing=true -property:PublishDir=C:\\Users\\randa\\source\\repos\\azure-learning\\app-service\\publish -property:_CommandLineDefinedOutputPath=true -property:Configuration=Release -property:DOTNET_CLI_DISABLE_PUBLISH_AND_PACK_RELEASE=true .\\app-service.csproj --self-containerd true -distributedlogger:Microsoft.DotNet.Tools.MSBuild.MSBuildLogger,C:\\Program Files\\dotnet\\sdk\\8.0.200\\dotnet.dll*Microsoft.DotNet.Tools.MSBuild.MSBuildForwardingLogger,C:\\Program Files\\dotnet\\sdk\\8.0.200\\dotnet.dll'\n",
      "  Switches appended by response files:\n",
      "Switch: --self-containerd\n",
      "\n",
      "For switch syntax, type \"MSBuild -help\"\n"
     ]
    },
    {
     "data": {
      "text/plain": []
     },
     "metadata": {},
     "output_type": "display_data"
    },
    {
     "ename": "Error",
     "evalue": "Command failed: SubmitCode: dotnet publish .\\app-service.csproj -c Release -o  ...",
     "output_type": "error",
     "traceback": [
      "Command failed: SubmitCode: dotnet publish .\\app-service.csproj -c Release -o  ..."
     ]
    }
   ],
   "source": [
    "# Build the App\n",
    "\n",
    "dotnet publish .\\app-service.csproj -c Release -o .\\publish --self-containerd true\n",
    "\n",
    "Compress-Archive -Path .\\publish\\* -DestinationPath .\\app.zip -Update"
   ]
  },
  {
   "cell_type": "code",
   "execution_count": 19,
   "metadata": {
    "dotnet_interactive": {
     "language": "pwsh"
    },
    "polyglot_notebook": {
     "kernelName": "pwsh"
    },
    "vscode": {
     "languageId": "polyglot-notebook"
    }
   },
   "outputs": [
    {
     "name": "stdout",
     "output_type": "stream",
     "text": [
      "\u001b[31;1mWARNING: This command has been deprecated and will be removed in a future release. Use 'az webapp deploy' instead.\u001b[0m\n",
      "\u001b[31;1mWARNING: Getting scm site credentials for zip deployment\u001b[0m\n",
      "\u001b[31;1mWARNING: Starting zip deployment. This operation can take a while to complete ...\u001b[0m\n",
      "\u001b[31;1mWARNING: Deployment endpoint responded with status code 202\u001b[0m\n",
      "{\n",
      "  \"active\": true,\n",
      "  \"author\": \"N/A\",\n",
      "  \"author_email\": \"N/A\",\n",
      "  \"complete\": true,\n",
      "  \"deployer\": \"ZipDeploy\",\n",
      "  \"end_time\": \"2024-05-12T18:33:23.463315Z\",\n",
      "  \"id\": \"af2fb5c1c9354675aa53b80f878b1c09\",\n",
      "  \"is_readonly\": true,\n",
      "  \"is_temp\": false,\n",
      "  \"last_success_end_time\": \"2024-05-12T18:33:23.463315Z\",\n",
      "  \"log_url\": \"https://az-learn-web-app-89.scm.azurewebsites.net/api/deployments/latest/log\",\n",
      "  \"message\": \"Created via a push deployment\",\n",
      "  \"progress\": \"\",\n",
      "  \"provisioningState\": \"Succeeded\",\n",
      "  \"received_time\": \"2024-05-12T18:33:22.5101882Z\",\n",
      "  \"site_name\": \"az-learn-web-app-89\",\n",
      "  \"start_time\": \"2024-05-12T18:33:22.5883104Z\",\n",
      "  \"status\": 4,\n",
      "  \"status_text\": \"\",\n",
      "  \"url\": \"https://az-learn-web-app-89.scm.azurewebsites.net/api/deployments/latest\"\n",
      "}\n"
     ]
    }
   ],
   "source": [
    "# Deploy to App Zip\n",
    "\n",
    "az webapp deployment source config-zip --resource-group \"$resourceGroupName\" --name \"$webAppName\" --src .\\app.zip"
   ]
  },
  {
   "cell_type": "code",
   "execution_count": null,
   "metadata": {
    "dotnet_interactive": {
     "language": "pwsh"
    },
    "polyglot_notebook": {
     "kernelName": "pwsh"
    },
    "vscode": {
     "languageId": "polyglot-notebook"
    }
   },
   "outputs": [],
   "source": [
    "# Cleanup the resources\n",
    "\n",
    "az group delete --name \"$resourceGroupName\" --yes --no-wait"
   ]
  }
 ],
 "metadata": {
  "language_info": {
   "name": "python"
  }
 },
 "nbformat": 4,
 "nbformat_minor": 2
}
