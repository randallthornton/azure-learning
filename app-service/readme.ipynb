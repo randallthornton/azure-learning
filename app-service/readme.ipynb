{
 "cells": [
  {
   "cell_type": "markdown",
   "metadata": {},
   "source": [
    "# Azure Learning - App Service"
   ]
  },
  {
   "cell_type": "code",
   "execution_count": 1,
   "metadata": {
    "dotnet_interactive": {
     "language": "pwsh"
    },
    "polyglot_notebook": {
     "kernelName": "pwsh"
    },
    "vscode": {
     "languageId": "polyglot-notebook"
    }
   },
   "outputs": [
    {
     "name": "stdout",
     "output_type": "stream",
     "text": [
      "\u001b[31;1mWARNING: A web browser has been opened at https://login.microsoftonline.com/organizations/oauth2/v2.0/authorize. Please continue the login in the web browser. If no web browser is available or if the web browser fails to open, use device code flow with `az login --use-device-code`.\u001b[0m\n",
      "[\n",
      "  {\n",
      "    \"cloudName\": \"AzureCloud\",\n",
      "    \"homeTenantId\": \"415d05c4-204b-4df3-b7db-fb5faa4abb73\",\n",
      "    \"id\": \"586f41cd-533d-41bd-9be4-88f5657a9ed4\",\n",
      "    \"isDefault\": false,\n",
      "    \"managedByTenants\": [],\n",
      "    \"name\": \"Azure Cloud POC\",\n",
      "    \"state\": \"Enabled\",\n",
      "    \"tenantId\": \"415d05c4-204b-4df3-b7db-fb5faa4abb73\",\n",
      "    \"user\": {\n",
      "      \"name\": \"Randall.Thornton@cc-racks.com\",\n",
      "      \"type\": \"user\"\n",
      "    }\n",
      "  },\n",
      "  {\n",
      "    \"cloudName\": \"AzureCloud\",\n",
      "    \"homeTenantId\": \"415d05c4-204b-4df3-b7db-fb5faa4abb73\",\n",
      "    \"id\": \"139ab8b0-8b6c-4574-ba4e-cb7f38419e03\",\n",
      "    \"isDefault\": true,\n",
      "    \"managedByTenants\": [],\n",
      "    \"name\": \"Visual Studio Professional Subscription\",\n",
      "    \"state\": \"Enabled\",\n",
      "    \"tenantId\": \"415d05c4-204b-4df3-b7db-fb5faa4abb73\",\n",
      "    \"user\": {\n",
      "      \"name\": \"Randall.Thornton@cc-racks.com\",\n",
      "      \"type\": \"user\"\n",
      "    }\n",
      "  }\n",
      "]\n"
     ]
    }
   ],
   "source": [
    "az login"
   ]
  },
  {
   "cell_type": "code",
   "execution_count": 2,
   "metadata": {
    "dotnet_interactive": {
     "language": "pwsh"
    },
    "polyglot_notebook": {
     "kernelName": "pwsh"
    },
    "vscode": {
     "languageId": "polyglot-notebook"
    }
   },
   "outputs": [],
   "source": [
    "# Set the subscription\n",
    "\n",
    "az account set --subscription '139ab8b0-8b6c-4574-ba4e-cb7f38419e03'"
   ]
  },
  {
   "cell_type": "code",
   "execution_count": 5,
   "metadata": {
    "dotnet_interactive": {
     "language": "pwsh"
    },
    "polyglot_notebook": {
     "kernelName": "pwsh"
    },
    "vscode": {
     "languageId": "polyglot-notebook"
    }
   },
   "outputs": [
    {
     "name": "stdout",
     "output_type": "stream",
     "text": [
      "{\n",
      "  \"id\": \"/subscriptions/139ab8b0-8b6c-4574-ba4e-cb7f38419e03/resourceGroups/az-learn-group\",\n",
      "  \"location\": \"eastus\",\n",
      "  \"managedBy\": null,\n",
      "  \"name\": \"az-learn-group\",\n",
      "  \"properties\": {\n",
      "    \"provisioningState\": \"Succeeded\"\n",
      "  },\n",
      "  \"tags\": null,\n",
      "  \"type\": \"Microsoft.Resources/resourceGroups\"\n",
      "}\n"
     ]
    }
   ],
   "source": [
    "# Create the resource group\n",
    "$resourceGroupName = \"az-learn-group\"\n",
    "$appServicePlanName = \"appServicePlan\"\n",
    "$webAppName = \"az-learn-web-app-89\"\n",
    "\n",
    "az group create --name \"$resourceGroupName\" --location eastus"
   ]
  },
  {
   "cell_type": "code",
   "execution_count": 4,
   "metadata": {
    "dotnet_interactive": {
     "language": "pwsh"
    },
    "polyglot_notebook": {
     "kernelName": "pwsh"
    },
    "vscode": {
     "languageId": "polyglot-notebook"
    }
   },
   "outputs": [
    {
     "name": "stdout",
     "output_type": "stream",
     "text": [
      "\u001b[31;1mERROR: Missing input parameters: webAppname\u001b[0m\r\n"
     ]
    },
    {
     "ename": "Error",
     "evalue": "Command failed: SubmitCode: az deployment group create --resource-group \"$reso ...",
     "output_type": "error",
     "traceback": [
      "Command failed: SubmitCode: az deployment group create --resource-group \"$reso ..."
     ]
    }
   ],
   "source": [
    "az deployment group create --resource-group \"$resourceGroupName\" --template-file .\\main.bicep --parameters appServicePlanName=$appServicePlanName webAppName=$webAppName"
   ]
  }
 ],
 "metadata": {
  "language_info": {
   "name": "python"
  }
 },
 "nbformat": 4,
 "nbformat_minor": 2
}
