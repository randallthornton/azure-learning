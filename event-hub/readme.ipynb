{
 "cells": [
  {
   "cell_type": "markdown",
   "metadata": {},
   "source": [
    "# Event Hubs"
   ]
  },
  {
   "cell_type": "markdown",
   "metadata": {},
   "source": [
    "## Setup"
   ]
  },
  {
   "cell_type": "code",
   "execution_count": 1,
   "metadata": {
    "dotnet_interactive": {
     "language": "pwsh"
    },
    "polyglot_notebook": {
     "kernelName": "pwsh"
    },
    "vscode": {
     "languageId": "polyglot-notebook"
    }
   },
   "outputs": [
    {
     "name": "stdout",
     "output_type": "stream",
     "text": [
      "\u001b[31;1mWARNING: A web browser has been opened at https://login.microsoftonline.com/organizations/oauth2/v2.0/authorize. Please continue the login in the web browser. If no web browser is available or if the web browser fails to open, use device code flow with `az login --use-device-code`.\u001b[0m\n",
      "[\n",
      "  {\n",
      "    \"cloudName\": \"AzureCloud\",\n",
      "    \"homeTenantId\": \"415d05c4-204b-4df3-b7db-fb5faa4abb73\",\n",
      "    \"id\": \"586f41cd-533d-41bd-9be4-88f5657a9ed4\",\n",
      "    \"isDefault\": false,\n",
      "    \"managedByTenants\": [],\n",
      "    \"name\": \"Azure Cloud POC\",\n",
      "    \"state\": \"Enabled\",\n",
      "    \"tenantId\": \"415d05c4-204b-4df3-b7db-fb5faa4abb73\",\n",
      "    \"user\": {\n",
      "      \"name\": \"Randall.Thornton@cc-racks.com\",\n",
      "      \"type\": \"user\"\n",
      "    }\n",
      "  },\n",
      "  {\n",
      "    \"cloudName\": \"AzureCloud\",\n",
      "    \"homeTenantId\": \"415d05c4-204b-4df3-b7db-fb5faa4abb73\",\n",
      "    \"id\": \"139ab8b0-8b6c-4574-ba4e-cb7f38419e03\",\n",
      "    \"isDefault\": true,\n",
      "    \"managedByTenants\": [],\n",
      "    \"name\": \"Visual Studio Professional Subscription\",\n",
      "    \"state\": \"Enabled\",\n",
      "    \"tenantId\": \"415d05c4-204b-4df3-b7db-fb5faa4abb73\",\n",
      "    \"user\": {\n",
      "      \"name\": \"Randall.Thornton@cc-racks.com\",\n",
      "      \"type\": \"user\"\n",
      "    }\n",
      "  }\n",
      "]\n"
     ]
    }
   ],
   "source": [
    "az login"
   ]
  },
  {
   "cell_type": "code",
   "execution_count": 2,
   "metadata": {
    "dotnet_interactive": {
     "language": "pwsh"
    },
    "polyglot_notebook": {
     "kernelName": "pwsh"
    },
    "vscode": {
     "languageId": "polyglot-notebook"
    }
   },
   "outputs": [],
   "source": [
    "# Set the default subscription\n",
    "az account set --subscription '139ab8b0-8b6c-4574-ba4e-cb7f38419e03'"
   ]
  },
  {
   "cell_type": "markdown",
   "metadata": {},
   "source": [
    "## Resource Group Creation"
   ]
  },
  {
   "cell_type": "code",
   "execution_count": 9,
   "metadata": {
    "dotnet_interactive": {
     "language": "pwsh"
    },
    "polyglot_notebook": {
     "kernelName": "pwsh"
    },
    "vscode": {
     "languageId": "polyglot-notebook"
    }
   },
   "outputs": [
    {
     "name": "stdout",
     "output_type": "stream",
     "text": [
      "{\n",
      "  \"id\": \"/subscriptions/139ab8b0-8b6c-4574-ba4e-cb7f38419e03/resourceGroups/mqtt-events\",\n",
      "  \"location\": \"eastus2\",\n",
      "  \"managedBy\": null,\n",
      "  \"name\": \"mqtt-events\",\n",
      "  \"properties\": {\n",
      "    \"provisioningState\": \"Succeeded\"\n",
      "  },\n",
      "  \"tags\": null,\n",
      "  \"type\": \"Microsoft.Resources/resourceGroups\"\n",
      "}\n"
     ]
    }
   ],
   "source": [
    "$resourceGroupName = \"mqtt-events\"\n",
    "\n",
    "az group create --name \"$resourceGroupName\" --location eastus2"
   ]
  },
  {
   "cell_type": "code",
   "execution_count": 12,
   "metadata": {
    "dotnet_interactive": {
     "language": "pwsh"
    },
    "polyglot_notebook": {
     "kernelName": "pwsh"
    },
    "vscode": {
     "languageId": "polyglot-notebook"
    }
   },
   "outputs": [
    {
     "name": "stdout",
     "output_type": "stream",
     "text": [
      "{\n",
      "  \"id\": \"/subscriptions/139ab8b0-8b6c-4574-ba4e-cb7f38419e03/resourceGroups/mqtt-events/providers/Microsoft.Resources/deployments/main\",\n",
      "  \"location\": null,\n",
      "  \"name\": \"main\",\n",
      "  \"properties\": {\n",
      "    \"correlationId\": \"ce5c287a-7c23-418c-aabe-5b22d15a5cb0\",\n",
      "    \"debugSetting\": null,\n",
      "    \"dependencies\": [\n",
      "      {\n",
      "        \"dependsOn\": [\n",
      "          {\n",
      "            \"id\": \"/subscriptions/139ab8b0-8b6c-4574-ba4e-cb7f38419e03/resourceGroups/mqtt-events/providers/Microsoft.EventHub/namespaces/eventhub-ns-randong\",\n",
      "            \"resourceGroup\": \"mqtt-events\",\n",
      "            \"resourceName\": \"eventhub-ns-randong\",\n",
      "            \"resourceType\": \"Microsoft.EventHub/namespaces\"\n",
      "          }\n",
      "        ],\n",
      "        \"id\": \"/subscriptions/139ab8b0-8b6c-4574-ba4e-cb7f38419e03/resourceGroups/mqtt-events/providers/Microsoft.EventHub/namespaces/eventhub-ns-randong/eventhubs/eventhub\",\n",
      "        \"resourceGroup\": \"mqtt-events\",\n",
      "        \"resourceName\": \"eventhub-ns-randong/eventhub\",\n",
      "        \"resourceType\": \"Microsoft.EventHub/namespaces/eventhubs\"\n",
      "      },\n",
      "      {\n",
      "        \"dependsOn\": [\n",
      "          {\n",
      "            \"id\": \"/subscriptions/139ab8b0-8b6c-4574-ba4e-cb7f38419e03/resourceGroups/mqtt-events/providers/Microsoft.EventHub/namespaces/eventhub-ns-randong/eventhubs/eventhub\",\n",
      "            \"resourceGroup\": \"mqtt-events\",\n",
      "            \"resourceName\": \"eventhub-ns-randong/eventhub\",\n",
      "            \"resourceType\": \"Microsoft.EventHub/namespaces/eventhubs\"\n",
      "          }\n",
      "        ],\n",
      "        \"id\": \"/subscriptions/139ab8b0-8b6c-4574-ba4e-cb7f38419e03/resourceGroups/mqtt-events/providers/Microsoft.EventHub/namespaces/eventhub-ns-randong/eventhubs/eventhub/consumergroups/eventhub-consumer-group\",\n",
      "        \"resourceGroup\": \"mqtt-events\",\n",
      "        \"resourceName\": \"eventhub-ns-randong/eventhub/eventhub-consumer-group\",\n",
      "        \"resourceType\": \"Microsoft.EventHub/namespaces/eventhubs/consumergroups\"\n",
      "      }\n",
      "    ],\n",
      "    \"duration\": \"PT27.8842584S\",\n",
      "    \"error\": null,\n",
      "    \"mode\": \"Incremental\",\n",
      "    \"onErrorDeployment\": null,\n",
      "    \"outputResources\": [\n",
      "      {\n",
      "        \"id\": \"/subscriptions/139ab8b0-8b6c-4574-ba4e-cb7f38419e03/resourceGroups/mqtt-events/providers/Microsoft.EventHub/namespaces/eventhub-ns-randong\",\n",
      "        \"resourceGroup\": \"mqtt-events\"\n",
      "      },\n",
      "      {\n",
      "        \"id\": \"/subscriptions/139ab8b0-8b6c-4574-ba4e-cb7f38419e03/resourceGroups/mqtt-events/providers/Microsoft.EventHub/namespaces/eventhub-ns-randong/eventhubs/eventhub\",\n",
      "        \"resourceGroup\": \"mqtt-events\"\n",
      "      },\n",
      "      {\n",
      "        \"id\": \"/subscriptions/139ab8b0-8b6c-4574-ba4e-cb7f38419e03/resourceGroups/mqtt-events/providers/Microsoft.EventHub/namespaces/eventhub-ns-randong/eventhubs/eventhub/consumergroups/eventhub-consumer-group\",\n",
      "        \"resourceGroup\": \"mqtt-events\"\n",
      "      },\n",
      "      {\n",
      "        \"id\": \"/subscriptions/139ab8b0-8b6c-4574-ba4e-cb7f38419e03/resourceGroups/mqtt-events/providers/Microsoft.Storage/storageAccounts/storageaccountrandong\",\n",
      "        \"resourceGroup\": \"mqtt-events\"\n",
      "      }\n",
      "    ],\n",
      "    \"outputs\": null,\n",
      "    \"parameters\": null,\n",
      "    \"parametersLink\": null,\n",
      "    \"providers\": [\n",
      "      {\n",
      "        \"id\": null,\n",
      "        \"namespace\": \"Microsoft.EventHub\",\n",
      "        \"providerAuthorizationConsentState\": null,\n",
      "        \"registrationPolicy\": null,\n",
      "        \"registrationState\": null,\n",
      "        \"resourceTypes\": [\n",
      "          {\n",
      "            \"aliases\": null,\n",
      "            \"apiProfiles\": null,\n",
      "            \"apiVersions\": null,\n",
      "            \"capabilities\": null,\n",
      "            \"defaultApiVersion\": null,\n",
      "            \"locationMappings\": null,\n",
      "            \"locations\": [\n",
      "              \"eastus2\"\n",
      "            ],\n",
      "            \"properties\": null,\n",
      "            \"resourceType\": \"namespaces\",\n",
      "            \"zoneMappings\": null\n",
      "          },\n",
      "          {\n",
      "            \"aliases\": null,\n",
      "            \"apiProfiles\": null,\n",
      "            \"apiVersions\": null,\n",
      "            \"capabilities\": null,\n",
      "            \"defaultApiVersion\": null,\n",
      "            \"locationMappings\": null,\n",
      "            \"locations\": [\n",
      "              null\n",
      "            ],\n",
      "            \"properties\": null,\n",
      "            \"resourceType\": \"namespaces/eventhubs\",\n",
      "            \"zoneMappings\": null\n",
      "          },\n",
      "          {\n",
      "            \"aliases\": null,\n",
      "            \"apiProfiles\": null,\n",
      "            \"apiVersions\": null,\n",
      "            \"capabilities\": null,\n",
      "            \"defaultApiVersion\": null,\n",
      "            \"locationMappings\": null,\n",
      "            \"locations\": [\n",
      "              null\n",
      "            ],\n",
      "            \"properties\": null,\n",
      "            \"resourceType\": \"namespaces/eventhubs/consumergroups\",\n",
      "            \"zoneMappings\": null\n",
      "          }\n",
      "        ]\n",
      "      },\n",
      "      {\n",
      "        \"id\": null,\n",
      "        \"namespace\": \"Microsoft.Storage\",\n",
      "        \"providerAuthorizationConsentState\": null,\n",
      "        \"registrationPolicy\": null,\n",
      "        \"registrationState\": null,\n",
      "        \"resourceTypes\": [\n",
      "          {\n",
      "            \"aliases\": null,\n",
      "            \"apiProfiles\": null,\n",
      "            \"apiVersions\": null,\n",
      "            \"capabilities\": null,\n",
      "            \"defaultApiVersion\": null,\n",
      "            \"locationMappings\": null,\n",
      "            \"locations\": [\n",
      "              \"eastus2\"\n",
      "            ],\n",
      "            \"properties\": null,\n",
      "            \"resourceType\": \"storageAccounts\",\n",
      "            \"zoneMappings\": null\n",
      "          }\n",
      "        ]\n",
      "      }\n",
      "    ],\n",
      "    \"provisioningState\": \"Succeeded\",\n",
      "    \"templateHash\": \"15650372849259963666\",\n",
      "    \"templateLink\": null,\n",
      "    \"timestamp\": \"2024-05-31T02:06:58.316806+00:00\",\n",
      "    \"validatedResources\": null\n",
      "  },\n",
      "  \"resourceGroup\": \"mqtt-events\",\n",
      "  \"tags\": null,\n",
      "  \"type\": \"Microsoft.Resources/deployments\"\n",
      "}\n"
     ]
    }
   ],
   "source": [
    "az deployment group create --resource-group $resourceGroupName --template-file .\\main.bicep"
   ]
  },
  {
   "cell_type": "markdown",
   "metadata": {},
   "source": [
    "## Cleanup"
   ]
  },
  {
   "cell_type": "code",
   "execution_count": 15,
   "metadata": {
    "dotnet_interactive": {
     "language": "pwsh"
    },
    "polyglot_notebook": {
     "kernelName": "pwsh"
    },
    "vscode": {
     "languageId": "polyglot-notebook"
    }
   },
   "outputs": [],
   "source": [
    "az group delete --name $resourceGroupName --yes --no-wait"
   ]
  },
  {
   "cell_type": "markdown",
   "metadata": {},
   "source": [
    "## Python dependencies"
   ]
  },
  {
   "cell_type": "code",
   "execution_count": 14,
   "metadata": {
    "dotnet_interactive": {
     "language": "pwsh"
    },
    "polyglot_notebook": {
     "kernelName": "pwsh"
    },
    "vscode": {
     "languageId": "polyglot-notebook"
    }
   },
   "outputs": [
    {
     "name": "stdout",
     "output_type": "stream",
     "text": [
      "Requirement already satisfied: azure-eventhub-checkpointstoreblob-aio in c:\\users\\randa\\appdata\\local\\programs\\python\\python39\\lib\\site-packages (1.1.4)\n",
      "Requirement already satisfied: aiohttp<4.0,>=3.0 in c:\\users\\randa\\appdata\\local\\programs\\python\\python39\\lib\\site-packages (from azure-eventhub-checkpointstoreblob-aio) (3.9.3)\n",
      "Requirement already satisfied: azure-core<2.0.0,>=1.10.0 in c:\\users\\randa\\appdata\\local\\programs\\python\\python39\\lib\\site-packages (from azure-eventhub-checkpointstoreblob-aio) (1.30.1)\n",
      "Requirement already satisfied: msrest>=0.6.18 in c:\\users\\randa\\appdata\\local\\programs\\python\\python39\\lib\\site-packages (from azure-eventhub-checkpointstoreblob-aio) (0.7.1)\n",
      "Requirement already satisfied: azure-eventhub<6.0.0,>=5.0.0 in c:\\users\\randa\\appdata\\local\\programs\\python\\python39\\lib\\site-packages (from azure-eventhub-checkpointstoreblob-aio) (5.11.6)\n",
      "Requirement already satisfied: cryptography>=2.1.4 in c:\\users\\randa\\appdata\\local\\programs\\python\\python39\\lib\\site-packages (from azure-eventhub-checkpointstoreblob-aio) (42.0.5)\n",
      "Requirement already satisfied: multidict<7.0,>=4.5 in c:\\users\\randa\\appdata\\local\\programs\\python\\python39\\lib\\site-packages (from aiohttp<4.0,>=3.0->azure-eventhub-checkpointstoreblob-aio) (6.0.5)\n",
      "Requirement already satisfied: yarl<2.0,>=1.0 in c:\\users\\randa\\appdata\\local\\programs\\python\\python39\\lib\\site-packages (from aiohttp<4.0,>=3.0->azure-eventhub-checkpointstoreblob-aio) (1.9.4)\n",
      "Requirement already satisfied: aiosignal>=1.1.2 in c:\\users\\randa\\appdata\\local\\programs\\python\\python39\\lib\\site-packages (from aiohttp<4.0,>=3.0->azure-eventhub-checkpointstoreblob-aio) (1.3.1)\n",
      "Requirement already satisfied: frozenlist>=1.1.1 in c:\\users\\randa\\appdata\\local\\programs\\python\\python39\\lib\\site-packages (from aiohttp<4.0,>=3.0->azure-eventhub-checkpointstoreblob-aio) (1.4.1)\n",
      "Requirement already satisfied: async-timeout<5.0,>=4.0; python_version < \"3.11\" in c:\\users\\randa\\appdata\\local\\programs\\python\\python39\\lib\\site-packages (from aiohttp<4.0,>=3.0->azure-eventhub-checkpointstoreblob-aio) (4.0.3)\n",
      "Requirement already satisfied: attrs>=17.3.0 in c:\\users\\randa\\appdata\\local\\programs\\python\\python39\\lib\\site-packages (from aiohttp<4.0,>=3.0->azure-eventhub-checkpointstoreblob-aio) (23.2.0)\n",
      "Requirement already satisfied: six>=1.11.0 in c:\\users\\randa\\appdata\\local\\programs\\python\\python39\\lib\\site-packages (from azure-core<2.0.0,>=1.10.0->azure-eventhub-checkpointstoreblob-aio) (1.16.0)\n",
      "Requirement already satisfied: requests>=2.21.0 in c:\\users\\randa\\appdata\\local\\programs\\python\\python39\\lib\\site-packages (from azure-core<2.0.0,>=1.10.0->azure-eventhub-checkpointstoreblob-aio) (2.31.0)\n",
      "Requirement already satisfied: typing-extensions>=4.6.0 in c:\\users\\randa\\appdata\\local\\programs\\python\\python39\\lib\\site-packages (from azure-core<2.0.0,>=1.10.0->azure-eventhub-checkpointstoreblob-aio) (4.10.0)\n",
      "Requirement already satisfied: certifi>=2017.4.17 in c:\\users\\randa\\appdata\\local\\programs\\python\\python39\\lib\\site-packages (from msrest>=0.6.18->azure-eventhub-checkpointstoreblob-aio) (2024.2.2)\n",
      "Requirement already satisfied: requests-oauthlib>=0.5.0 in c:\\users\\randa\\appdata\\local\\programs\\python\\python39\\lib\\site-packages (from msrest>=0.6.18->azure-eventhub-checkpointstoreblob-aio) (1.4.0)\n",
      "Requirement already satisfied: isodate>=0.6.0 in c:\\users\\randa\\appdata\\local\\programs\\python\\python39\\lib\\site-packages (from msrest>=0.6.18->azure-eventhub-checkpointstoreblob-aio) (0.6.1)\n",
      "Requirement already satisfied: cffi>=1.12; platform_python_implementation != \"PyPy\" in c:\\users\\randa\\appdata\\local\\programs\\python\\python39\\lib\\site-packages (from cryptography>=2.1.4->azure-eventhub-checkpointstoreblob-aio) (1.16.0)\n",
      "Requirement already satisfied: idna>=2.0 in c:\\users\\randa\\appdata\\local\\programs\\python\\python39\\lib\\site-packages (from yarl<2.0,>=1.0->aiohttp<4.0,>=3.0->azure-eventhub-checkpointstoreblob-aio) (3.6)\n",
      "Requirement already satisfied: charset-normalizer<4,>=2 in c:\\users\\randa\\appdata\\local\\programs\\python\\python39\\lib\\site-packages (from requests>=2.21.0->azure-core<2.0.0,>=1.10.0->azure-eventhub-checkpointstoreblob-aio) (3.3.2)\n",
      "Requirement already satisfied: urllib3<3,>=1.21.1 in c:\\users\\randa\\appdata\\local\\programs\\python\\python39\\lib\\site-packages (from requests>=2.21.0->azure-core<2.0.0,>=1.10.0->azure-eventhub-checkpointstoreblob-aio) (2.2.1)\n",
      "Requirement already satisfied: oauthlib>=3.0.0 in c:\\users\\randa\\appdata\\local\\programs\\python\\python39\\lib\\site-packages (from requests-oauthlib>=0.5.0->msrest>=0.6.18->azure-eventhub-checkpointstoreblob-aio) (3.2.2)\n",
      "Requirement already satisfied: pycparser in c:\\users\\randa\\appdata\\local\\programs\\python\\python39\\lib\\site-packages (from cffi>=1.12; platform_python_implementation != \"PyPy\"->cryptography>=2.1.4->azure-eventhub-checkpointstoreblob-aio) (2.21)\n",
      "\u001b[31;1mWARNING: You are using pip version 20.2.3; however, version 24.0 is available.\u001b[0m\n",
      "\u001b[31;1mYou should consider upgrading via the 'c:\\users\\randa\\appdata\\local\\programs\\python\\python39\\python.exe -m pip install --upgrade pip' command.\u001b[0m\n"
     ]
    }
   ],
   "source": [
    "pip install azure-eventhub-checkpointstoreblob-aio"
   ]
  }
 ],
 "metadata": {
  "kernelspec": {
   "display_name": ".NET (C#)",
   "language": "C#",
   "name": ".net-csharp"
  },
  "language_info": {
   "codemirror_mode": "shell",
   "file_extension": ".ps1",
   "mimetype": "text/x-sh",
   "name": "powershell"
  },
  "polyglot_notebook": {
   "kernelInfo": {
    "defaultKernelName": "csharp",
    "items": [
     {
      "aliases": [],
      "name": "csharp"
     }
    ]
   }
  }
 },
 "nbformat": 4,
 "nbformat_minor": 2
}
