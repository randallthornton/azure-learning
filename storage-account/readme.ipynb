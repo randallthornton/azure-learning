{
 "cells": [
  {
   "cell_type": "markdown",
   "metadata": {},
   "source": [
    "# Azure Learning - Storage Account Static Website"
   ]
  },
  {
   "cell_type": "code",
   "execution_count": 1,
   "metadata": {
    "dotnet_interactive": {
     "language": "pwsh"
    },
    "polyglot_notebook": {
     "kernelName": "pwsh"
    },
    "vscode": {
     "languageId": "polyglot-notebook"
    }
   },
   "outputs": [
    {
     "name": "stdout",
     "output_type": "stream",
     "text": [
      "\u001b[31;1mWARNING: A web browser has been opened at https://login.microsoftonline.com/organizations/oauth2/v2.0/authorize. Please continue the login in the web browser. If no web browser is available or if the web browser fails to open, use device code flow with `az login --use-device-code`.\u001b[0m\n",
      "[\n",
      "  {\n",
      "    \"cloudName\": \"AzureCloud\",\n",
      "    \"homeTenantId\": \"415d05c4-204b-4df3-b7db-fb5faa4abb73\",\n",
      "    \"id\": \"586f41cd-533d-41bd-9be4-88f5657a9ed4\",\n",
      "    \"isDefault\": false,\n",
      "    \"managedByTenants\": [],\n",
      "    \"name\": \"Azure Cloud POC\",\n",
      "    \"state\": \"Enabled\",\n",
      "    \"tenantId\": \"415d05c4-204b-4df3-b7db-fb5faa4abb73\",\n",
      "    \"user\": {\n",
      "      \"name\": \"Randall.Thornton@cc-racks.com\",\n",
      "      \"type\": \"user\"\n",
      "    }\n",
      "  },\n",
      "  {\n",
      "    \"cloudName\": \"AzureCloud\",\n",
      "    \"homeTenantId\": \"415d05c4-204b-4df3-b7db-fb5faa4abb73\",\n",
      "    \"id\": \"139ab8b0-8b6c-4574-ba4e-cb7f38419e03\",\n",
      "    \"isDefault\": true,\n",
      "    \"managedByTenants\": [],\n",
      "    \"name\": \"Visual Studio Professional Subscription\",\n",
      "    \"state\": \"Enabled\",\n",
      "    \"tenantId\": \"415d05c4-204b-4df3-b7db-fb5faa4abb73\",\n",
      "    \"user\": {\n",
      "      \"name\": \"Randall.Thornton@cc-racks.com\",\n",
      "      \"type\": \"user\"\n",
      "    }\n",
      "  }\n",
      "]\n"
     ]
    }
   ],
   "source": [
    "az login"
   ]
  },
  {
   "cell_type": "code",
   "execution_count": 2,
   "metadata": {
    "dotnet_interactive": {
     "language": "pwsh"
    },
    "polyglot_notebook": {
     "kernelName": "pwsh"
    },
    "vscode": {
     "languageId": "polyglot-notebook"
    }
   },
   "outputs": [],
   "source": [
    "# Set the subscription\n",
    "az account set --subscription '139ab8b0-8b6c-4574-ba4e-cb7f38419e03'"
   ]
  },
  {
   "cell_type": "code",
   "execution_count": 13,
   "metadata": {
    "dotnet_interactive": {
     "language": "pwsh"
    },
    "polyglot_notebook": {
     "kernelName": "pwsh"
    },
    "vscode": {
     "languageId": "polyglot-notebook"
    }
   },
   "outputs": [
    {
     "name": "stdout",
     "output_type": "stream",
     "text": [
      "{\n",
      "  \"id\": \"/subscriptions/139ab8b0-8b6c-4574-ba4e-cb7f38419e03/resourceGroups/az-learn-group\",\n",
      "  \"location\": \"eastus\",\n",
      "  \"managedBy\": null,\n",
      "  \"name\": \"az-learn-group\",\n",
      "  \"properties\": {\n",
      "    \"provisioningState\": \"Succeeded\"\n",
      "  },\n",
      "  \"tags\": null,\n",
      "  \"type\": \"Microsoft.Resources/resourceGroups\"\n",
      "}\n"
     ]
    }
   ],
   "source": [
    "# Create the resource group\n",
    "$resourceGroupName = \"az-learn-group\"\n",
    "$storageAccountName = \"azlearnstorage868\"\n",
    "\n",
    "az group create --name \"$resourceGroupName\" --location eastus"
   ]
  },
  {
   "cell_type": "code",
   "execution_count": 14,
   "metadata": {
    "dotnet_interactive": {
     "language": "pwsh"
    },
    "polyglot_notebook": {
     "kernelName": "pwsh"
    },
    "vscode": {
     "languageId": "polyglot-notebook"
    }
   },
   "outputs": [
    {
     "name": "stdout",
     "output_type": "stream",
     "text": [
      "\u001b[31;1mWARNING: C:\\Users\\randa\\source\\repos\\azure-learning\\storage-account\\main.bicep(4,7) : Warning no-unused-params: Parameter \"location\" is declared but never used. [https://aka.ms/bicep/linter/no-unused-params]\u001b[0m\n",
      "\u001b[31;1m\u001b[0m\n",
      "\u001b[31;1m\u001b[0m\n",
      "{\n",
      "  \"id\": \"/subscriptions/139ab8b0-8b6c-4574-ba4e-cb7f38419e03/resourceGroups/az-learn-group/providers/Microsoft.Resources/deployments/main\",\n",
      "  \"location\": null,\n",
      "  \"name\": \"main\",\n",
      "  \"properties\": {\n",
      "    \"correlationId\": \"9aa82703-1bf1-4d8c-bf44-be0c151db9ce\",\n",
      "    \"debugSetting\": null,\n",
      "    \"dependencies\": [],\n",
      "    \"duration\": \"PT19.5292799S\",\n",
      "    \"error\": null,\n",
      "    \"mode\": \"Incremental\",\n",
      "    \"onErrorDeployment\": null,\n",
      "    \"outputResources\": [\n",
      "      {\n",
      "        \"id\": \"/subscriptions/139ab8b0-8b6c-4574-ba4e-cb7f38419e03/resourceGroups/az-learn-group/providers/Microsoft.Storage/storageAccounts/azlearnstorage868\",\n",
      "        \"resourceGroup\": \"az-learn-group\"\n",
      "      }\n",
      "    ],\n",
      "    \"outputs\": null,\n",
      "    \"parameters\": {\n",
      "      \"location\": {\n",
      "        \"type\": \"String\",\n",
      "        \"value\": \"eastus\"\n",
      "      },\n",
      "      \"storageAccountName\": {\n",
      "        \"type\": \"String\",\n",
      "        \"value\": \"azlearnstorage868\"\n",
      "      }\n",
      "    },\n",
      "    \"parametersLink\": null,\n",
      "    \"providers\": [\n",
      "      {\n",
      "        \"id\": null,\n",
      "        \"namespace\": \"Microsoft.Storage\",\n",
      "        \"providerAuthorizationConsentState\": null,\n",
      "        \"registrationPolicy\": null,\n",
      "        \"registrationState\": null,\n",
      "        \"resourceTypes\": [\n",
      "          {\n",
      "            \"aliases\": null,\n",
      "            \"apiProfiles\": null,\n",
      "            \"apiVersions\": null,\n",
      "            \"capabilities\": null,\n",
      "            \"defaultApiVersion\": null,\n",
      "            \"locationMappings\": null,\n",
      "            \"locations\": [\n",
      "              \"eastus\"\n",
      "            ],\n",
      "            \"properties\": null,\n",
      "            \"resourceType\": \"storageAccounts\",\n",
      "            \"zoneMappings\": null\n",
      "          }\n",
      "        ]\n",
      "      }\n",
      "    ],\n",
      "    \"provisioningState\": \"Succeeded\",\n",
      "    \"templateHash\": \"2678215825879679737\",\n",
      "    \"templateLink\": null,\n",
      "    \"timestamp\": \"2024-05-12T16:09:13.848461+00:00\",\n",
      "    \"validatedResources\": null\n",
      "  },\n",
      "  \"resourceGroup\": \"az-learn-group\",\n",
      "  \"tags\": null,\n",
      "  \"type\": \"Microsoft.Resources/deployments\"\n",
      "}\n"
     ]
    }
   ],
   "source": [
    "az deployment group create --resource-group \"$resourceGroupName\" --template-file .\\main.bicep --parameters storageAccountName=\"$storageAccountName\" --parameters location=\"eastus\""
   ]
  },
  {
   "cell_type": "code",
   "execution_count": 15,
   "metadata": {
    "dotnet_interactive": {
     "language": "pwsh"
    },
    "polyglot_notebook": {
     "kernelName": "pwsh"
    },
    "vscode": {
     "languageId": "polyglot-notebook"
    }
   },
   "outputs": [
    {
     "name": "stdout",
     "output_type": "stream",
     "text": [
      "\u001b[31;1mWARNING: \u001b[0m\n",
      "\u001b[31;1mThere are no credentials provided in your command and environment, we will query for account key for your storage account.\u001b[0m\n",
      "\u001b[31;1mIt is recommended to provide --connection-string, --account-key or --sas-token in your command as credentials.\u001b[0m\n",
      "\u001b[31;1m\u001b[0m\n",
      "\u001b[31;1mYou also can add `--auth-mode login` in your command to use Azure Active Directory (Azure AD) for authorization if your login account is assigned required RBAC roles.\u001b[0m\n",
      "\u001b[31;1mFor more information about RBAC roles in storage, visit https://docs.microsoft.com/azure/storage/common/storage-auth-aad-rbac-cli.\u001b[0m\n",
      "\u001b[31;1m\u001b[0m\n",
      "\u001b[31;1mIn addition, setting the corresponding environment variables can avoid inputting credentials in your command. Please use --help to get more information about environment variable usage.\u001b[0m\n",
      "{\n",
      "  \"cors\": [],\n",
      "  \"deleteRetentionPolicy\": {\n",
      "    \"allowPermanentDelete\": null,\n",
      "    \"days\": null,\n",
      "    \"enabled\": false\n",
      "  },\n",
      "  \"hourMetrics\": {\n",
      "    \"enabled\": true,\n",
      "    \"includeApis\": true,\n",
      "    \"retentionPolicy\": {\n",
      "      \"allowPermanentDelete\": null,\n",
      "      \"days\": 7,\n",
      "      \"enabled\": true\n",
      "    },\n",
      "    \"version\": \"1.0\"\n",
      "  },\n",
      "  \"logging\": {\n",
      "    \"delete\": false,\n",
      "    \"read\": false,\n",
      "    \"retentionPolicy\": {\n",
      "      \"allowPermanentDelete\": null,\n",
      "      \"days\": null,\n",
      "      \"enabled\": false\n",
      "    },\n",
      "    \"version\": \"1.0\",\n",
      "    \"write\": false\n",
      "  },\n",
      "  \"minuteMetrics\": {\n",
      "    \"enabled\": false,\n",
      "    \"includeApis\": null,\n",
      "    \"retentionPolicy\": {\n",
      "      \"allowPermanentDelete\": null,\n",
      "      \"days\": null,\n",
      "      \"enabled\": false\n",
      "    },\n",
      "    \"version\": \"1.0\"\n",
      "  },\n",
      "  \"staticWebsite\": {\n",
      "    \"defaultIndexDocumentPath\": null,\n",
      "    \"enabled\": true,\n",
      "    \"errorDocument_404Path\": null,\n",
      "    \"indexDocument\": null\n",
      "  },\n",
      "  \"target_version\": null\n",
      "}\n"
     ]
    }
   ],
   "source": [
    "az storage blob service-properties update --account-name $storageAccountName --static-website"
   ]
  },
  {
   "cell_type": "code",
   "execution_count": 17,
   "metadata": {
    "dotnet_interactive": {
     "language": "pwsh"
    },
    "polyglot_notebook": {
     "kernelName": "pwsh"
    },
    "vscode": {
     "languageId": "polyglot-notebook"
    }
   },
   "outputs": [
    {
     "name": "stdout",
     "output_type": "stream",
     "text": [
      "\u001b[31;1mWARNING: \u001b[0m\n",
      "\u001b[31;1mThere are no credentials provided in your command and environment, we will query for account key for your storage account.\u001b[0m\n",
      "\u001b[31;1mIt is recommended to provide --connection-string, --account-key or --sas-token in your command as credentials.\u001b[0m\n",
      "\u001b[31;1m\u001b[0m\n",
      "\u001b[31;1mYou also can add `--auth-mode login` in your command to use Azure Active Directory (Azure AD) for authorization if your login account is assigned required RBAC roles.\u001b[0m\n",
      "\u001b[31;1mFor more information about RBAC roles in storage, visit https://docs.microsoft.com/azure/storage/common/storage-auth-aad-rbac-cli.\u001b[0m\n",
      "\u001b[31;1m\u001b[0m\n",
      "\u001b[31;1mIn addition, setting the corresponding environment variables can avoid inputting credentials in your command. Please use --help to get more information about environment variable usage.\u001b[0m\n",
      "\u001b[31;1m\u001b[0m\n",
      "\u001b[31;1m1/2: \"error.html\"[####################################################]  100.0000%\u001b[0m\n",
      "\u001b[31;1m2/2: \"index.html\"[####################################################]  100.0000%\u001b[0m\n",
      "\u001b[31;1mFinished[#############################################################]  100.0000%\u001b[0m\n",
      "[\n",
      "  {\n",
      "    \"Blob\": \"https://azlearnstorage868.blob.core.windows.net/%24web/error.html\",\n",
      "    \"Last Modified\": \"2024-05-12T16:18:40+00:00\",\n",
      "    \"Type\": \"text/html\",\n",
      "    \"eTag\": \"\\\"0x8DC729F2F89B347\\\"\"\n",
      "  },\n",
      "  {\n",
      "    \"Blob\": \"https://azlearnstorage868.blob.core.windows.net/%24web/index.html\",\n",
      "    \"Last Modified\": \"2024-05-12T16:18:40+00:00\",\n",
      "    \"Type\": \"text/html\",\n",
      "    \"eTag\": \"\\\"0x8DC729F2F9172CB\\\"\"\n",
      "  }\n",
      "]\n"
     ]
    }
   ],
   "source": [
    "az storage blob upload-batch -s .\\upload -d '$web' --account-name $storageAccountName"
   ]
  },
  {
   "cell_type": "code",
   "execution_count": 7,
   "metadata": {
    "dotnet_interactive": {
     "language": "pwsh"
    },
    "polyglot_notebook": {
     "kernelName": "pwsh"
    },
    "vscode": {
     "languageId": "polyglot-notebook"
    }
   },
   "outputs": [],
   "source": [
    "# Clean up by deleting the resource group\n",
    "\n",
    "az group delete --name \"$resourceGroupName\" --yes --no-wait"
   ]
  }
 ],
 "metadata": {
  "kernelspec": {
   "display_name": "PowerShell",
   "language": "powershell",
   "name": "powershell"
  },
  "language_info": {
   "codemirror_mode": "shell",
   "file_extension": ".ps1",
   "mimetype": "text/x-sh",
   "name": "powershell"
  }
 },
 "nbformat": 4,
 "nbformat_minor": 2
}
