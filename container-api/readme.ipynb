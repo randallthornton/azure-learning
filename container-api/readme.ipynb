{
 "cells": [
  {
   "cell_type": "markdown",
   "metadata": {},
   "source": [
    "# Azure Learning - Container Instances"
   ]
  },
  {
   "cell_type": "code",
   "execution_count": 1,
   "metadata": {},
   "outputs": [
    {
     "name": "stdout",
     "output_type": "stream",
     "text": [
      "WARNING: A web browser has been opened at https://login.microsoftonline.com/organizations/oauth2/v2.0/authorize. Please continue the login in the web browser. If no web browser is available or if the web browser fails to open, use device code flow with `az login --use-device-code`.\n",
      "[\n",
      "  {\n",
      "    \"cloudName\": \"AzureCloud\",\n",
      "    \"homeTenantId\": \"415d05c4-204b-4df3-b7db-fb5faa4abb73\",\n",
      "    \"id\": \"586f41cd-533d-41bd-9be4-88f5657a9ed4\",\n",
      "    \"isDefault\": false,\n",
      "    \"managedByTenants\": [],\n",
      "    \"name\": \"Azure Cloud POC\",\n",
      "    \"state\": \"Enabled\",\n",
      "    \"tenantId\": \"415d05c4-204b-4df3-b7db-fb5faa4abb73\",\n",
      "    \"user\": {\n",
      "      \"name\": \"Randall.Thornton@cc-racks.com\",\n",
      "      \"type\": \"user\"\n",
      "    }\n",
      "  },\n",
      "  {\n",
      "    \"cloudName\": \"AzureCloud\",\n",
      "    \"homeTenantId\": \"415d05c4-204b-4df3-b7db-fb5faa4abb73\",\n",
      "    \"id\": \"139ab8b0-8b6c-4574-ba4e-cb7f38419e03\",\n",
      "    \"isDefault\": true,\n",
      "    \"managedByTenants\": [],\n",
      "    \"name\": \"Visual Studio Professional Subscription\",\n",
      "    \"state\": \"Enabled\",\n",
      "    \"tenantId\": \"415d05c4-204b-4df3-b7db-fb5faa4abb73\",\n",
      "    \"user\": {\n",
      "      \"name\": \"Randall.Thornton@cc-racks.com\",\n",
      "      \"type\": \"user\"\n",
      "    }\n",
      "  }\n",
      "]\n"
     ]
    }
   ],
   "source": [
    "az login"
   ]
  },
  {
   "cell_type": "code",
   "execution_count": 2,
   "metadata": {},
   "outputs": [
    {
     "name": "stdout",
     "output_type": "stream",
     "text": []
    }
   ],
   "source": [
    "# Set the subscription\n",
    "az account set --subscription '139ab8b0-8b6c-4574-ba4e-cb7f38419e03'"
   ]
  },
  {
   "cell_type": "code",
   "execution_count": 8,
   "metadata": {},
   "outputs": [
    {
     "name": "stdout",
     "output_type": "stream",
     "text": [
      "{\n",
      "  \"id\": \"/subscriptions/139ab8b0-8b6c-4574-ba4e-cb7f38419e03/resourceGroups/az-learn-group\",\n",
      "  \"location\": \"eastus\",\n",
      "  \"managedBy\": null,\n",
      "  \"name\": \"az-learn-group\",\n",
      "  \"properties\": {\n",
      "    \"provisioningState\": \"Succeeded\"\n",
      "  },\n",
      "  \"tags\": null,\n",
      "  \"type\": \"Microsoft.Resources/resourceGroups\"\n",
      "}\n"
     ]
    }
   ],
   "source": [
    "# Create the resource group\n",
    "$resourceGroupName = \"az-learn-group\"\n",
    "$storageAccountName = \"azlearnstorage868\"\n",
    "\n",
    "az group create --name \"$resourceGroupName\" --location eastus"
   ]
  },
  {
   "cell_type": "code",
   "execution_count": 11,
   "metadata": {},
   "outputs": [
    {
     "name": "stdout",
     "output_type": "stream",
     "text": [
      "WARNING: A new Bicep release is available: v0.27.1. Upgrade now by running \"az bicep upgrade\".\n",
      "WARNING: C:\\Users\\randall.thornton\\source\\repos\\azure-learning\\container-api\\main.bicep(3,13) : Warning no-loc-expr-outside-params: Use a parameter here instead of 'resourceGroup().location'. 'resourceGroup().location' and 'deployment().location' should only be used as a default value for parameters. [https://aka.ms/bicep/linter/no-loc-expr-outside-params]\n",
      "\n",
      "{\n",
      "  \"id\": \"/subscriptions/139ab8b0-8b6c-4574-ba4e-cb7f38419e03/resourceGroups/az-learn-group/providers/Microsoft.Resources/deployments/main\",\n",
      "  \"location\": null,\n",
      "  \"name\": \"main\",\n",
      "  \"properties\": {\n",
      "    \"correlationId\": \"c5ecc187-c921-4fea-8d88-c6b0388cadd3\",\n",
      "    \"debugSetting\": null,\n",
      "    \"dependencies\": [],\n",
      "    \"duration\": \"PT49.646184S\",\n",
      "    \"error\": null,\n",
      "    \"mode\": \"Incremental\",\n",
      "    \"onErrorDeployment\": null,\n",
      "    \"outputResources\": [\n",
      "      {\n",
      "        \"id\": \"/subscriptions/139ab8b0-8b6c-4574-ba4e-cb7f38419e03/resourceGroups/az-learn-group/providers/Microsoft.ContainerInstance/containerGroups/containerGroup\",\n",
      "        \"resourceGroup\": \"az-learn-group\"\n",
      "      }\n",
      "    ],\n",
      "    \"outputs\": null,\n",
      "    \"parameters\": null,\n",
      "    \"parametersLink\": null,\n",
      "    \"providers\": [\n",
      "      {\n",
      "        \"id\": null,\n",
      "        \"namespace\": \"Microsoft.ContainerInstance\",\n",
      "        \"providerAuthorizationConsentState\": null,\n",
      "        \"registrationPolicy\": null,\n",
      "        \"registrationState\": null,\n",
      "        \"resourceTypes\": [\n",
      "          {\n",
      "            \"aliases\": null,\n",
      "            \"apiProfiles\": null,\n",
      "            \"apiVersions\": null,\n",
      "            \"capabilities\": null,\n",
      "            \"defaultApiVersion\": null,\n",
      "            \"locationMappings\": null,\n",
      "            \"locations\": [\n",
      "              \"eastus\"\n",
      "            ],\n",
      "            \"properties\": null,\n",
      "            \"resourceType\": \"containerGroups\",\n",
      "            \"zoneMappings\": null\n",
      "          }\n",
      "        ]\n",
      "      }\n",
      "    ],\n",
      "    \"provisioningState\": \"Succeeded\",\n",
      "    \"templateHash\": \"12644033333146446493\",\n",
      "    \"templateLink\": null,\n",
      "    \"timestamp\": \"2024-05-18T00:00:24.654481+00:00\",\n",
      "    \"validatedResources\": null\n",
      "  },\n",
      "  \"resourceGroup\": \"az-learn-group\",\n",
      "  \"tags\": null,\n",
      "  \"type\": \"Microsoft.Resources/deployments\"\n",
      "}\n"
     ]
    }
   ],
   "source": [
    "az deployment group create --resource-group $resourceGroupName --template-file .\\main.bicep"
   ]
  },
  {
   "cell_type": "code",
   "execution_count": 12,
   "metadata": {},
   "outputs": [
    {
     "name": "stdout",
     "output_type": "stream",
     "text": []
    }
   ],
   "source": [
    "# Clean up by deleting the resource group\n",
    "\n",
    "az group delete --name \"$resourceGroupName\" --yes --no-wait"
   ]
  }
 ],
 "metadata": {
  "kernelspec": {
   "display_name": "PowerShell",
   "language": "powershell",
   "name": "powershell"
  },
  "language_info": {
   "codemirror_mode": "shell",
   "file_extension": ".ps1",
   "mimetype": "text/x-sh",
   "name": "powershell"
  }
 },
 "nbformat": 4,
 "nbformat_minor": 2
}
